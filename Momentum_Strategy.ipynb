{
 "cells": [
  {
   "cell_type": "code",
   "execution_count": null,
   "id": "bbc3edfa",
   "metadata": {},
   "outputs": [],
   "source": [
    "import numpy as np\n",
    "import pandas as pd\n",
    "import plotly.express as px"
   ]
  },
  {
   "cell_type": "code",
   "execution_count": null,
   "id": "c7983fa1",
   "metadata": {},
   "outputs": [],
   "source": [
    "# Lade Daten\n",
    "data = pd.read_csv('/Users/robinfischer/Desktop/pyfin_assig_data.csv')\n"
   ]
  },
  {
   "cell_type": "code",
   "execution_count": null,
   "id": "8ddcf5df",
   "metadata": {},
   "outputs": [],
   "source": [
    "data['form_rets'] = data.groupby('permno')['price'].transform(pd.Series.pct_change, periods=6, fill_method=None)\n",
    "\n",
    "data['hold_rets'] = data.groupby('permno')['price'].transform(pd.Series.pct_change, periods=1, fill_method=None).shift(-2)\n"
   ]
  },
  {
   "cell_type": "code",
   "execution_count": null,
   "id": "882d32e6",
   "metadata": {},
   "outputs": [],
   "source": [
    "# Construct indicator for a 'good' stock\n",
    "data['good_stock'] = 0\n",
    "data.loc[~data['form_rets'].isnull(), 'good_stock']=1\n"
   ]
  },
  {
   "cell_type": "code",
   "execution_count": null,
   "id": "69fefbd1",
   "metadata": {},
   "outputs": [],
   "source": [
    "# Assign stocks into 10 equal groups based on formation period returns\n",
    "data['port'] = data.loc[data['good_stock']==1].groupby('date')['form_rets'].transform(pd.qcut, q=10, labels=range(1,11)).astype(str)\n"
   ]
  },
  {
   "cell_type": "code",
   "execution_count": null,
   "id": "62b47dc7",
   "metadata": {},
   "outputs": [],
   "source": [
    "port_df = data.loc[~data['port'].isnull()].groupby(['date','port'])['hold_rets'].mean().reset_index()\n",
    "\n",
    "port_df = port_df.pivot(index = 'date', columns = 'port', values = 'hold_rets').reset_index()\n"
   ]
  },
  {
   "cell_type": "code",
   "execution_count": null,
   "id": "6bbdcab0",
   "metadata": {},
   "outputs": [],
   "source": [
    "# Calculate the returns\n",
    "port_df['Mom_rets'] = port_df['10']-port_df['1']"
   ]
  },
  {
   "cell_type": "code",
   "execution_count": null,
   "id": "0adae009",
   "metadata": {},
   "outputs": [],
   "source": [
    "#Visuals\n",
    "port_df['Mom_cum_rets'] = (1+port_df['Mom_rets']).cumprod()\n",
    "px.line(port_df, y='Mom_cum_rets', x='date', labels={'Mom_cum_rets': 'Cumulative returns'}, title = 'Momentum Strategy').show()\n"
   ]
  }
 ],
 "metadata": {
  "kernelspec": {
   "display_name": "Python 3 (ipykernel)",
   "language": "python",
   "name": "python3"
  },
  "language_info": {
   "codemirror_mode": {
    "name": "ipython",
    "version": 3
   },
   "file_extension": ".py",
   "mimetype": "text/x-python",
   "name": "python",
   "nbconvert_exporter": "python",
   "pygments_lexer": "ipython3",
   "version": "3.11.5"
  }
 },
 "nbformat": 4,
 "nbformat_minor": 5
}
