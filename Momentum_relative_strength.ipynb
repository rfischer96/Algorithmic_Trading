{
 "cells": [
  {
   "cell_type": "code",
   "execution_count": null,
   "id": "f4c09e64",
   "metadata": {},
   "outputs": [],
   "source": [
    "import numpy as np\n",
    "import pandas as pd\n",
    "import plotly.express as px"
   ]
  },
  {
   "cell_type": "code",
   "execution_count": null,
   "id": "7e57eb0f",
   "metadata": {},
   "outputs": [],
   "source": [
    "# Load Data\n",
    "data = pd.read_csv('/Users/robinfischer/Desktop/pyfin_assig_data.csv')\n"
   ]
  },
  {
   "cell_type": "code",
   "execution_count": null,
   "id": "cf95a4a1",
   "metadata": {},
   "outputs": [],
   "source": [
    "# Calculate formation period returns and hold period returns\n",
    "data['form_rets'] = data.groupby('permno')['price'].transform(pd.Series.pct_change, periods=6, fill_method=None)\n",
    "data['hold_rets'] = data.groupby('permno')['price'].transform(pd.Series.pct_change, periods=1, fill_method=None).shift(-2)\n"
   ]
  },
  {
   "cell_type": "code",
   "execution_count": null,
   "id": "478a40c1",
   "metadata": {},
   "outputs": [],
   "source": [
    "# Construct indicator for a 'good' stock\n",
    "data['good_stock'] = 0\n",
    "data.loc[~data['form_rets'].isnull(), 'good_stock'] = 1"
   ]
  },
  {
   "cell_type": "code",
   "execution_count": null,
   "id": "388ca41a",
   "metadata": {},
   "outputs": [],
   "source": [
    "# Assign stocks into 10 equal groups based on formation period returns\n",
    "data['port_mom'] = data.loc[data['good_stock'] == 1].groupby('date')['form_rets'].transform(pd.qcut, q=10, labels=range(1, 11)).astype(str)\n",
    "\n"
   ]
  },
  {
   "cell_type": "code",
   "execution_count": null,
   "id": "af24e2f6",
   "metadata": {},
   "outputs": [],
   "source": [
    "# Calculate the mean returns for each portfolio\n",
    "port_df_mom = data.loc[~data['port_mom'].isnull()].groupby(['date', 'port_mom'])['hold_rets'].mean().reset_index()"
   ]
  },
  {
   "cell_type": "code",
   "execution_count": null,
   "id": "37f343df",
   "metadata": {},
   "outputs": [],
   "source": [
    "# Pivot the data for easier analysis\n",
    "port_df_mom = port_df_mom.pivot(index='date', columns='port_mom', values='hold_rets').reset_index()\n",
    "\n"
   ]
  },
  {
   "cell_type": "code",
   "execution_count": null,
   "id": "a711eb1a",
   "metadata": {},
   "outputs": [],
   "source": [
    "# Calculate the relative strength of each portfolio\n",
    "port_df_mom['relative_strength'] = port_df_mom.iloc[:, -1] - port_df_mom.iloc[:, 1]"
   ]
  },
  {
   "cell_type": "code",
   "execution_count": null,
   "id": "32fbbe73",
   "metadata": {},
   "outputs": [],
   "source": [
    "# Select the portfolio with the highest relative strength\n",
    "top_portfolio = port_df_mom['relative_strength'].idxmax()"
   ]
  },
  {
   "cell_type": "code",
   "execution_count": null,
   "id": "a54c53b8",
   "metadata": {},
   "outputs": [],
   "source": [
    "# Vizualisation\n",
    "px.line(port_df_mom, x='date', y='relative_strength', labels={'value': 'Cumulative returns'}, title='Relative Strength Strategy').show()\n",
    "\n"
   ]
  }
 ],
 "metadata": {
  "kernelspec": {
   "display_name": "Python 3 (ipykernel)",
   "language": "python",
   "name": "python3"
  },
  "language_info": {
   "codemirror_mode": {
    "name": "ipython",
    "version": 3
   },
   "file_extension": ".py",
   "mimetype": "text/x-python",
   "name": "python",
   "nbconvert_exporter": "python",
   "pygments_lexer": "ipython3",
   "version": "3.11.5"
  }
 },
 "nbformat": 4,
 "nbformat_minor": 5
}
